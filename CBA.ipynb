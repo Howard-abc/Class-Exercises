{
  "nbformat": 4,
  "nbformat_minor": 0,
  "metadata": {
    "colab": {
      "name": "CBA",
      "provenance": [],
      "mount_file_id": "1XQEzPCmnH4D3BP7PkqEXx3s0385KMFEu",
      "authorship_tag": "ABX9TyPqyFLAgODaxtnA/xo8ZdDj",
      "include_colab_link": true
    },
    "kernelspec": {
      "name": "python3",
      "display_name": "Python 3"
    },
    "language_info": {
      "name": "python"
    }
  },
  "cells": [
    {
      "cell_type": "markdown",
      "metadata": {
        "id": "view-in-github",
        "colab_type": "text"
      },
      "source": [
        "<a href=\"https://colab.research.google.com/github/Howard-abc/Class-Exercises/blob/main/CBA.ipynb\" target=\"_parent\"><img src=\"https://colab.research.google.com/assets/colab-badge.svg\" alt=\"Open In Colab\"/></a>"
      ]
    },
    {
      "cell_type": "code",
      "execution_count": null,
      "metadata": {
        "id": "SY9SkQwU6qlp",
        "colab": {
          "base_uri": "https://localhost:8080/"
        },
        "outputId": "84d9364f-229c-4410-835b-3e007850a5ee"
      },
      "outputs": [
        {
          "output_type": "stream",
          "name": "stdout",
          "text": [
            "   years  developmentCost  operationalCost  valueOfBenefits\n",
            "0      0             -100                0                0\n",
            "1      1              -30              -10               25\n",
            "2      2                0              -15               55\n",
            "3      3                0              -15               85\n",
            "   years  developmentCost  operationalCost  valueOfBenefits  discountFactor\n",
            "0      0             -100                0                0            1.00\n",
            "1      1              -30              -10               25            0.95\n",
            "2      2                0              -15               55            0.91\n",
            "3      3                0              -15               85            0.86\n"
          ]
        }
      ],
      "source": [
        "import pandas as pd\n",
        "import math \n",
        "\n",
        "dataT=pd.read_csv('/content/drive/MyDrive/Colab Notebooks/262-CBA.csv')\n",
        "print(dataT)\n"
      ]
    },
    {
      "cell_type": "code",
      "source": [
        "discountRate=0.05\n",
        "discountFactor=[0,0,0,0]\n",
        "for year in dataT['years']:\n",
        "  discountFactor[year]=1/math.pow((1+discountRate),year)\n",
        "\n",
        "dataT['discountFactor']=[round(num,2) for num in discountFactor]\n",
        "print (dataT)"
      ],
      "metadata": {
        "colab": {
          "base_uri": "https://localhost:8080/"
        },
        "id": "AglED-lJ_bBi",
        "outputId": "9488fc02-6841-4801-d177-3ad71c1b222e"
      },
      "execution_count": null,
      "outputs": [
        {
          "output_type": "stream",
          "name": "stdout",
          "text": [
            "   years  developmentCost  operationalCost  valueOfBenefits  discountFactor\n",
            "0      0             -100                0                0            1.00\n",
            "1      1              -30              -10               25            0.95\n",
            "2      2                0              -15               55            0.91\n",
            "3      3                0              -15               85            0.86\n"
          ]
        }
      ]
    },
    {
      "cell_type": "code",
      "source": [
        "NetBC=[0,0,0,0]\n",
        "for year in dataT['years']:\n",
        "  NetBC[year]= dataT['developmentCost'][year]+dataT['operationalCost'][year]+dataT['valueOfBenefits'][year]\n",
        "\n",
        "dataT['NetBC']=NetBC\n",
        "print (dataT)"
      ],
      "metadata": {
        "colab": {
          "base_uri": "https://localhost:8080/"
        },
        "id": "LdPC7ISo_eX9",
        "outputId": "aad24e9a-650b-4a55-9e4c-a185e9d44312"
      },
      "execution_count": null,
      "outputs": [
        {
          "output_type": "stream",
          "name": "stdout",
          "text": [
            "   years  developmentCost  ...  discountFactor  NetBC\n",
            "0      0             -100  ...            1.00   -100\n",
            "1      1              -30  ...            0.95    -15\n",
            "2      2                0  ...            0.91     40\n",
            "3      3                0  ...            0.86     70\n",
            "\n",
            "[4 rows x 6 columns]\n"
          ]
        }
      ]
    },
    {
      "cell_type": "markdown",
      "source": [
        ""
      ],
      "metadata": {
        "id": "LuAQN1pn8sPg"
      }
    },
    {
      "cell_type": "code",
      "source": [
        "NPV = [0,0,0,0]\n",
        "\n",
        "for year in dataT['years']:\n",
        "  NPV[year]=dataT['NetBC'][year]*dataT['discountFactor'][year]\n",
        "\n",
        " \n",
        "dataT['NPV']=[round(num,2)for num in NPV]\n",
        "print(dataT)"
      ],
      "metadata": {
        "colab": {
          "base_uri": "https://localhost:8080/"
        },
        "id": "MAlO_cFUAIjt",
        "outputId": "8e8a9b26-9fb0-4d33-892b-ef9236cfc863"
      },
      "execution_count": null,
      "outputs": [
        {
          "output_type": "stream",
          "name": "stdout",
          "text": [
            "   years  developmentCost  operationalCost  ...  discountFactor  NetBC     NPV\n",
            "0      0             -100                0  ...            1.00   -100 -100.00\n",
            "1      1              -30              -10  ...            0.95    -15  -14.25\n",
            "2      2                0              -15  ...            0.91     40   36.40\n",
            "3      3                0              -15  ...            0.86     70   60.20\n",
            "\n",
            "[4 rows x 7 columns]\n"
          ]
        }
      ]
    }
  ]
}