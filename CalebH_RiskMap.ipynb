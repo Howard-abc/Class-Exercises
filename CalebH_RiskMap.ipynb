{
  "nbformat": 4,
  "nbformat_minor": 0,
  "metadata": {
    "colab": {
      "name": "CalebH_RiskMap.ipynb",
      "provenance": [],
      "authorship_tag": "ABX9TyO5tybLpit9b6EVAaaw3eXQ",
      "include_colab_link": true
    },
    "kernelspec": {
      "name": "python3",
      "display_name": "Python 3"
    },
    "language_info": {
      "name": "python"
    }
  },
  "cells": [
    {
      "cell_type": "markdown",
      "metadata": {
        "id": "view-in-github",
        "colab_type": "text"
      },
      "source": [
        "<a href=\"https://colab.research.google.com/github/Howard-abc/Class-Exercises/blob/main/CalebH_RiskMap.ipynb\" target=\"_parent\"><img src=\"https://colab.research.google.com/assets/colab-badge.svg\" alt=\"Open In Colab\"/></a>"
      ]
    },
    {
      "cell_type": "code",
      "execution_count": 15,
      "metadata": {
        "colab": {
          "base_uri": "https://localhost:8080/",
          "height": 487
        },
        "id": "7x4Sif7spvi3",
        "outputId": "d87ff669-7806-44e2-94f1-c4c61bf1875a"
      },
      "outputs": [
        {
          "output_type": "stream",
          "name": "stdout",
          "text": [
            "likelihood  0.1  0.2  0.3  0.5\n",
            "impact                        \n",
            "1           NaN  0.2  NaN  NaN\n",
            "2           NaN  NaN  0.6  NaN\n",
            "7           0.7  NaN  NaN  NaN\n",
            "10          NaN  NaN  NaN  5.0\n",
            "likelihood     0.1    0.2   0.3       0.5\n",
            "impact                                   \n",
            "1              NaN  users   NaN       NaN\n",
            "2              NaN    NaN  team       NaN\n",
            "7           budget    NaN   NaN       NaN\n",
            "10             NaN    NaN   NaN  security\n"
          ]
        },
        {
          "output_type": "display_data",
          "data": {
            "image/png": "[encoded data removed]",
            "text/plain": [
              "<Figure size 432x288 with 2 Axes>"
            ]
          },
          "metadata": {
            "needs_background": "light"
          }
        }
      ],
      "source": [
        "import seaborn as sns\n",
        "import pandas as pd\n",
        "import numpy as np\n",
        "\n",
        "#Create a dataframe (date table)\n",
        "df =pd.DataFrame(columns=['risk', 'likelihood', 'impact', 'score'])\n",
        "\n",
        "df['risk']=['users','team','budget', 'security']\n",
        "\n",
        "df['likelihood']=[0.2,0.3,0.1,0.5]\n",
        "df['impact']=[1,2,7,10]\n",
        "\n",
        "df['score']= df['impact']*df['likelihood']\n",
        "\n",
        "\n",
        "scoresPivot=df.pivot('impact','likelihood','score')\n",
        "print(scoresPivot)\n",
        "\n",
        "labelsPivot=df.pivot('impact','likelihood','risk')\n",
        "print(labelsPivot)\n",
        "\n",
        "#replaces no labels with empty strings\n",
        "labelsPivot.fillna('',inplace=True)\n",
        "\n",
        "#Simple Heatmap\n",
        "P1=sns.heatmap(scoresPivot, cmap='Blues' ,annot=labelsPivot, fmt='')\n"
      ]
    }
  ]
}